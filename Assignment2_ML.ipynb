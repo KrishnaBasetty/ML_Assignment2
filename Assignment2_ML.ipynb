{
 "cells": [
  {
   "cell_type": "code",
   "execution_count": 5,
   "id": "e7cd39b8",
   "metadata": {},
   "outputs": [
    {
     "name": "stdout",
     "output_type": "stream",
     "text": [
      "\n",
      "*\n",
      "**\n",
      "***\n",
      "****\n",
      "*****\n",
      "****\n",
      "***\n",
      "**\n",
      "*\n",
      "\n"
     ]
    }
   ],
   "source": [
    "rows = 10\n",
    "for i in range(rows+1):\n",
    "    if i < 5:\n",
    "        for j in range(i):\n",
    "            print(\"*\",end='')\n",
    "    else:\n",
    "        for k in range(rows-i):\n",
    "            print(\"*\",end='')\n",
    "        \n",
    "    print(\"\")"
   ]
  },
  {
   "cell_type": "code",
   "execution_count": 39,
   "id": "31e0be64",
   "metadata": {},
   "outputs": [
    {
     "name": "stdout",
     "output_type": "stream",
     "text": [
      "20\n",
      "40\n",
      "60\n",
      "80\n",
      "100\n"
     ]
    }
   ],
   "source": [
    "my_list = [10, 20, 30, 40, 50, 60, 70, 80, 90, 100]\n",
    "for x in my_list:\n",
    "    if(my_list.index(x)%2!=0):\n",
    "        {\n",
    "            print(x)\n",
    "        }"
   ]
  },
  {
   "cell_type": "code",
   "execution_count": 17,
   "id": "b31df590",
   "metadata": {},
   "outputs": [
    {
     "name": "stdout",
     "output_type": "stream",
     "text": [
      "[23, 'Python', 23.98]\n",
      "[<class 'int'>, <class 'str'>, <class 'float'>]\n"
     ]
    }
   ],
   "source": [
    "x = [23, \"Python\", 23.98]\n",
    "print(x)\n",
    "output=[]\n",
    "for j in x:\n",
    "    output.append(type(j))\n",
    "print(output)"
   ]
  },
  {
   "cell_type": "code",
   "execution_count": 37,
   "id": "8d7b170c",
   "metadata": {},
   "outputs": [
    {
     "name": "stdout",
     "output_type": "stream",
     "text": [
      "Sample List:[1, 2, 3, 3, 3, 3, 4, 5]\n",
      "Unique List:[1, 2, 3, 4, 5]\n"
     ]
    }
   ],
   "source": [
    "Sample_List= [1,2,3,3,3,3,4,5]\n",
    "res = []\n",
    "print(\"Sample List:\" +str(Sample_List))\n",
    "[res.append(x) for x in Sample_List if x not in res]\n",
    "print(\"Unique List:\" +str(res))"
   ]
  },
  {
   "cell_type": "code",
   "execution_count": 34,
   "id": "aa77b99a",
   "metadata": {},
   "outputs": [
    {
     "name": "stdout",
     "output_type": "stream",
     "text": [
      "The number of uppercase characters is:3\n",
      "The number of lowercase characters is:12\n"
     ]
    }
   ],
   "source": [
    "Input_String='The quick Brow Fox'\n",
    "count1=0\n",
    "count2=0\n",
    "for i in Input_String:\n",
    "      if(i.islower()):\n",
    "            count1=count1+1\n",
    "      elif(i.isupper()):\n",
    "            count2=count2+1\n",
    "print(\"The number of uppercase characters is:\" +str(count2))\n",
    "print(\"The number of lowercase characters is:\" +str(count1))\n"
   ]
  },
  {
   "cell_type": "code",
   "execution_count": null,
   "id": "ec04d556",
   "metadata": {},
   "outputs": [],
   "source": []
  }
 ],
 "metadata": {
  "kernelspec": {
   "display_name": "Python 3 (ipykernel)",
   "language": "python",
   "name": "python3"
  },
  "language_info": {
   "codemirror_mode": {
    "name": "ipython",
    "version": 3
   },
   "file_extension": ".py",
   "mimetype": "text/x-python",
   "name": "python",
   "nbconvert_exporter": "python",
   "pygments_lexer": "ipython3",
   "version": "3.9.13"
  }
 },
 "nbformat": 4,
 "nbformat_minor": 5
}
